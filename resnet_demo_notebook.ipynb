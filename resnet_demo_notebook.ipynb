{
  "nbformat": 4,
  "nbformat_minor": 0,
  "metadata": {
    "colab": {
      "provenance": [],
      "gpuType": "T4",
      "authorship_tag": "ABX9TyM5bjEQBjCDGRDj/f+pJ/aG",
      "include_colab_link": true
    },
    "kernelspec": {
      "name": "python3",
      "display_name": "Python 3"
    },
    "language_info": {
      "name": "python"
    },
    "accelerator": "GPU"
  },
  "cells": [
    {
      "cell_type": "markdown",
      "metadata": {
        "id": "view-in-github",
        "colab_type": "text"
      },
      "source": [
        "<a href=\"https://colab.research.google.com/github/pQbas/resnet-pytorch/blob/main/resnet_demo_notebook.ipynb\" target=\"_parent\"><img src=\"https://colab.research.google.com/assets/colab-badge.svg\" alt=\"Open In Colab\"/></a>"
      ]
    },
    {
      "cell_type": "code",
      "source": [
        "%%bash\n",
        "if [ \"$PWD\" != \"/content\" ]; then\n",
        "    echo \"Not in /content. Changing to /content...\"\n",
        "    cd /content\n",
        "else\n",
        "    echo \"Already in /content.\"\n",
        "fi\n",
        "rm -r resnet-pytorch\n",
        "git clone https://github.com/pQbas/resnet-pytorch.git\n",
        "cd resnet-pytorch\n",
        "pip install -e ."
      ],
      "metadata": {
        "colab": {
          "base_uri": "https://localhost:8080/"
        },
        "id": "VBmBS96wRS_b",
        "outputId": "760d26bf-bc17-4e69-a4b5-e1a9021b9acb"
      },
      "execution_count": 1,
      "outputs": [
        {
          "output_type": "stream",
          "name": "stdout",
          "text": [
            "Already in /content.\n",
            "Obtaining file:///content/resnet-pytorch\n",
            "  Preparing metadata (setup.py): started\n",
            "  Preparing metadata (setup.py): finished with status 'done'\n",
            "Requirement already satisfied: torch>=2.2.1 in /usr/local/lib/python3.10/dist-packages (from resnet==0.0.1) (2.5.1+cu121)\n",
            "Requirement already satisfied: torchvision>=0.17.1 in /usr/local/lib/python3.10/dist-packages (from resnet==0.0.1) (0.20.1+cu121)\n",
            "Requirement already satisfied: numpy in /usr/local/lib/python3.10/dist-packages (from resnet==0.0.1) (1.26.4)\n",
            "Requirement already satisfied: tqdm in /usr/local/lib/python3.10/dist-packages (from resnet==0.0.1) (4.66.6)\n",
            "Collecting colorlog (from resnet==0.0.1)\n",
            "  Downloading colorlog-6.9.0-py3-none-any.whl.metadata (10 kB)\n",
            "Requirement already satisfied: rich in /usr/local/lib/python3.10/dist-packages (from resnet==0.0.1) (13.9.4)\n",
            "Collecting mlflow (from resnet==0.0.1)\n",
            "  Downloading mlflow-2.18.0-py3-none-any.whl.metadata (29 kB)\n",
            "Requirement already satisfied: filelock in /usr/local/lib/python3.10/dist-packages (from torch>=2.2.1->resnet==0.0.1) (3.16.1)\n",
            "Requirement already satisfied: typing-extensions>=4.8.0 in /usr/local/lib/python3.10/dist-packages (from torch>=2.2.1->resnet==0.0.1) (4.12.2)\n",
            "Requirement already satisfied: networkx in /usr/local/lib/python3.10/dist-packages (from torch>=2.2.1->resnet==0.0.1) (3.4.2)\n",
            "Requirement already satisfied: jinja2 in /usr/local/lib/python3.10/dist-packages (from torch>=2.2.1->resnet==0.0.1) (3.1.4)\n",
            "Requirement already satisfied: fsspec in /usr/local/lib/python3.10/dist-packages (from torch>=2.2.1->resnet==0.0.1) (2024.10.0)\n",
            "Requirement already satisfied: sympy==1.13.1 in /usr/local/lib/python3.10/dist-packages (from torch>=2.2.1->resnet==0.0.1) (1.13.1)\n",
            "Requirement already satisfied: mpmath<1.4,>=1.1.0 in /usr/local/lib/python3.10/dist-packages (from sympy==1.13.1->torch>=2.2.1->resnet==0.0.1) (1.3.0)\n",
            "Requirement already satisfied: pillow!=8.3.*,>=5.3.0 in /usr/local/lib/python3.10/dist-packages (from torchvision>=0.17.1->resnet==0.0.1) (11.0.0)\n",
            "Collecting mlflow-skinny==2.18.0 (from mlflow->resnet==0.0.1)\n",
            "  Downloading mlflow_skinny-2.18.0-py3-none-any.whl.metadata (30 kB)\n",
            "Requirement already satisfied: Flask<4 in /usr/local/lib/python3.10/dist-packages (from mlflow->resnet==0.0.1) (3.0.3)\n",
            "Collecting alembic!=1.10.0,<2 (from mlflow->resnet==0.0.1)\n",
            "  Downloading alembic-1.14.0-py3-none-any.whl.metadata (7.4 kB)\n",
            "Collecting docker<8,>=4.0.0 (from mlflow->resnet==0.0.1)\n",
            "  Downloading docker-7.1.0-py3-none-any.whl.metadata (3.8 kB)\n",
            "Collecting graphene<4 (from mlflow->resnet==0.0.1)\n",
            "  Downloading graphene-3.4.3-py2.py3-none-any.whl.metadata (6.9 kB)\n",
            "Requirement already satisfied: markdown<4,>=3.3 in /usr/local/lib/python3.10/dist-packages (from mlflow->resnet==0.0.1) (3.7)\n",
            "Requirement already satisfied: matplotlib<4 in /usr/local/lib/python3.10/dist-packages (from mlflow->resnet==0.0.1) (3.8.0)\n",
            "Requirement already satisfied: pandas<3 in /usr/local/lib/python3.10/dist-packages (from mlflow->resnet==0.0.1) (2.2.2)\n",
            "Requirement already satisfied: pyarrow<19,>=4.0.0 in /usr/local/lib/python3.10/dist-packages (from mlflow->resnet==0.0.1) (17.0.0)\n",
            "Requirement already satisfied: scikit-learn<2 in /usr/local/lib/python3.10/dist-packages (from mlflow->resnet==0.0.1) (1.5.2)\n",
            "Requirement already satisfied: scipy<2 in /usr/local/lib/python3.10/dist-packages (from mlflow->resnet==0.0.1) (1.13.1)\n",
            "Requirement already satisfied: sqlalchemy<3,>=1.4.0 in /usr/local/lib/python3.10/dist-packages (from mlflow->resnet==0.0.1) (2.0.36)\n",
            "Collecting gunicorn<24 (from mlflow->resnet==0.0.1)\n",
            "  Downloading gunicorn-23.0.0-py3-none-any.whl.metadata (4.4 kB)\n",
            "Requirement already satisfied: cachetools<6,>=5.0.0 in /usr/local/lib/python3.10/dist-packages (from mlflow-skinny==2.18.0->mlflow->resnet==0.0.1) (5.5.0)\n",
            "Requirement already satisfied: click<9,>=7.0 in /usr/local/lib/python3.10/dist-packages (from mlflow-skinny==2.18.0->mlflow->resnet==0.0.1) (8.1.7)\n",
            "Requirement already satisfied: cloudpickle<4 in /usr/local/lib/python3.10/dist-packages (from mlflow-skinny==2.18.0->mlflow->resnet==0.0.1) (3.1.0)\n",
            "Collecting databricks-sdk<1,>=0.20.0 (from mlflow-skinny==2.18.0->mlflow->resnet==0.0.1)\n",
            "  Downloading databricks_sdk-0.38.0-py3-none-any.whl.metadata (38 kB)\n",
            "Requirement already satisfied: gitpython<4,>=3.1.9 in /usr/local/lib/python3.10/dist-packages (from mlflow-skinny==2.18.0->mlflow->resnet==0.0.1) (3.1.43)\n",
            "Requirement already satisfied: importlib-metadata!=4.7.0,<9,>=3.7.0 in /usr/local/lib/python3.10/dist-packages (from mlflow-skinny==2.18.0->mlflow->resnet==0.0.1) (8.5.0)\n",
            "Requirement already satisfied: opentelemetry-api<3,>=1.9.0 in /usr/local/lib/python3.10/dist-packages (from mlflow-skinny==2.18.0->mlflow->resnet==0.0.1) (1.28.2)\n",
            "Requirement already satisfied: opentelemetry-sdk<3,>=1.9.0 in /usr/local/lib/python3.10/dist-packages (from mlflow-skinny==2.18.0->mlflow->resnet==0.0.1) (1.28.2)\n",
            "Requirement already satisfied: packaging<25 in /usr/local/lib/python3.10/dist-packages (from mlflow-skinny==2.18.0->mlflow->resnet==0.0.1) (24.2)\n",
            "Requirement already satisfied: protobuf<6,>=3.12.0 in /usr/local/lib/python3.10/dist-packages (from mlflow-skinny==2.18.0->mlflow->resnet==0.0.1) (4.25.5)\n",
            "Requirement already satisfied: pyyaml<7,>=5.1 in /usr/local/lib/python3.10/dist-packages (from mlflow-skinny==2.18.0->mlflow->resnet==0.0.1) (6.0.2)\n",
            "Requirement already satisfied: requests<3,>=2.17.3 in /usr/local/lib/python3.10/dist-packages (from mlflow-skinny==2.18.0->mlflow->resnet==0.0.1) (2.32.3)\n",
            "Requirement already satisfied: sqlparse<1,>=0.4.0 in /usr/local/lib/python3.10/dist-packages (from mlflow-skinny==2.18.0->mlflow->resnet==0.0.1) (0.5.2)\n",
            "Requirement already satisfied: markdown-it-py>=2.2.0 in /usr/local/lib/python3.10/dist-packages (from rich->resnet==0.0.1) (3.0.0)\n",
            "Requirement already satisfied: pygments<3.0.0,>=2.13.0 in /usr/local/lib/python3.10/dist-packages (from rich->resnet==0.0.1) (2.18.0)\n",
            "Collecting Mako (from alembic!=1.10.0,<2->mlflow->resnet==0.0.1)\n",
            "  Downloading Mako-1.3.8-py3-none-any.whl.metadata (2.9 kB)\n",
            "Requirement already satisfied: urllib3>=1.26.0 in /usr/local/lib/python3.10/dist-packages (from docker<8,>=4.0.0->mlflow->resnet==0.0.1) (2.2.3)\n",
            "Requirement already satisfied: Werkzeug>=3.0.0 in /usr/local/lib/python3.10/dist-packages (from Flask<4->mlflow->resnet==0.0.1) (3.1.3)\n",
            "Requirement already satisfied: itsdangerous>=2.1.2 in /usr/local/lib/python3.10/dist-packages (from Flask<4->mlflow->resnet==0.0.1) (2.2.0)\n",
            "Requirement already satisfied: blinker>=1.6.2 in /usr/local/lib/python3.10/dist-packages (from Flask<4->mlflow->resnet==0.0.1) (1.9.0)\n",
            "Collecting graphql-core<3.3,>=3.1 (from graphene<4->mlflow->resnet==0.0.1)\n",
            "  Downloading graphql_core-3.2.5-py3-none-any.whl.metadata (10 kB)\n",
            "Collecting graphql-relay<3.3,>=3.1 (from graphene<4->mlflow->resnet==0.0.1)\n",
            "  Downloading graphql_relay-3.2.0-py3-none-any.whl.metadata (12 kB)\n",
            "Requirement already satisfied: python-dateutil<3,>=2.7.0 in /usr/local/lib/python3.10/dist-packages (from graphene<4->mlflow->resnet==0.0.1) (2.8.2)\n",
            "Requirement already satisfied: MarkupSafe>=2.0 in /usr/local/lib/python3.10/dist-packages (from jinja2->torch>=2.2.1->resnet==0.0.1) (3.0.2)\n",
            "Requirement already satisfied: mdurl~=0.1 in /usr/local/lib/python3.10/dist-packages (from markdown-it-py>=2.2.0->rich->resnet==0.0.1) (0.1.2)\n",
            "Requirement already satisfied: contourpy>=1.0.1 in /usr/local/lib/python3.10/dist-packages (from matplotlib<4->mlflow->resnet==0.0.1) (1.3.1)\n",
            "Requirement already satisfied: cycler>=0.10 in /usr/local/lib/python3.10/dist-packages (from matplotlib<4->mlflow->resnet==0.0.1) (0.12.1)\n",
            "Requirement already satisfied: fonttools>=4.22.0 in /usr/local/lib/python3.10/dist-packages (from matplotlib<4->mlflow->resnet==0.0.1) (4.55.1)\n",
            "Requirement already satisfied: kiwisolver>=1.0.1 in /usr/local/lib/python3.10/dist-packages (from matplotlib<4->mlflow->resnet==0.0.1) (1.4.7)\n",
            "Requirement already satisfied: pyparsing>=2.3.1 in /usr/local/lib/python3.10/dist-packages (from matplotlib<4->mlflow->resnet==0.0.1) (3.2.0)\n",
            "Requirement already satisfied: pytz>=2020.1 in /usr/local/lib/python3.10/dist-packages (from pandas<3->mlflow->resnet==0.0.1) (2024.2)\n",
            "Requirement already satisfied: tzdata>=2022.7 in /usr/local/lib/python3.10/dist-packages (from pandas<3->mlflow->resnet==0.0.1) (2024.2)\n",
            "Requirement already satisfied: joblib>=1.2.0 in /usr/local/lib/python3.10/dist-packages (from scikit-learn<2->mlflow->resnet==0.0.1) (1.4.2)\n",
            "Requirement already satisfied: threadpoolctl>=3.1.0 in /usr/local/lib/python3.10/dist-packages (from scikit-learn<2->mlflow->resnet==0.0.1) (3.5.0)\n",
            "Requirement already satisfied: greenlet!=0.4.17 in /usr/local/lib/python3.10/dist-packages (from sqlalchemy<3,>=1.4.0->mlflow->resnet==0.0.1) (3.1.1)\n",
            "Requirement already satisfied: google-auth~=2.0 in /usr/local/lib/python3.10/dist-packages (from databricks-sdk<1,>=0.20.0->mlflow-skinny==2.18.0->mlflow->resnet==0.0.1) (2.27.0)\n",
            "Requirement already satisfied: gitdb<5,>=4.0.1 in /usr/local/lib/python3.10/dist-packages (from gitpython<4,>=3.1.9->mlflow-skinny==2.18.0->mlflow->resnet==0.0.1) (4.0.11)\n",
            "Requirement already satisfied: zipp>=3.20 in /usr/local/lib/python3.10/dist-packages (from importlib-metadata!=4.7.0,<9,>=3.7.0->mlflow-skinny==2.18.0->mlflow->resnet==0.0.1) (3.21.0)\n",
            "Requirement already satisfied: deprecated>=1.2.6 in /usr/local/lib/python3.10/dist-packages (from opentelemetry-api<3,>=1.9.0->mlflow-skinny==2.18.0->mlflow->resnet==0.0.1) (1.2.15)\n",
            "Requirement already satisfied: opentelemetry-semantic-conventions==0.49b2 in /usr/local/lib/python3.10/dist-packages (from opentelemetry-sdk<3,>=1.9.0->mlflow-skinny==2.18.0->mlflow->resnet==0.0.1) (0.49b2)\n",
            "Requirement already satisfied: six>=1.5 in /usr/local/lib/python3.10/dist-packages (from python-dateutil<3,>=2.7.0->graphene<4->mlflow->resnet==0.0.1) (1.16.0)\n",
            "Requirement already satisfied: charset-normalizer<4,>=2 in /usr/local/lib/python3.10/dist-packages (from requests<3,>=2.17.3->mlflow-skinny==2.18.0->mlflow->resnet==0.0.1) (3.4.0)\n",
            "Requirement already satisfied: idna<4,>=2.5 in /usr/local/lib/python3.10/dist-packages (from requests<3,>=2.17.3->mlflow-skinny==2.18.0->mlflow->resnet==0.0.1) (3.10)\n",
            "Requirement already satisfied: certifi>=2017.4.17 in /usr/local/lib/python3.10/dist-packages (from requests<3,>=2.17.3->mlflow-skinny==2.18.0->mlflow->resnet==0.0.1) (2024.8.30)\n",
            "Requirement already satisfied: wrapt<2,>=1.10 in /usr/local/lib/python3.10/dist-packages (from deprecated>=1.2.6->opentelemetry-api<3,>=1.9.0->mlflow-skinny==2.18.0->mlflow->resnet==0.0.1) (1.17.0)\n",
            "Requirement already satisfied: smmap<6,>=3.0.1 in /usr/local/lib/python3.10/dist-packages (from gitdb<5,>=4.0.1->gitpython<4,>=3.1.9->mlflow-skinny==2.18.0->mlflow->resnet==0.0.1) (5.0.1)\n",
            "Requirement already satisfied: pyasn1-modules>=0.2.1 in /usr/local/lib/python3.10/dist-packages (from google-auth~=2.0->databricks-sdk<1,>=0.20.0->mlflow-skinny==2.18.0->mlflow->resnet==0.0.1) (0.4.1)\n",
            "Requirement already satisfied: rsa<5,>=3.1.4 in /usr/local/lib/python3.10/dist-packages (from google-auth~=2.0->databricks-sdk<1,>=0.20.0->mlflow-skinny==2.18.0->mlflow->resnet==0.0.1) (4.9)\n",
            "Requirement already satisfied: pyasn1<0.7.0,>=0.4.6 in /usr/local/lib/python3.10/dist-packages (from pyasn1-modules>=0.2.1->google-auth~=2.0->databricks-sdk<1,>=0.20.0->mlflow-skinny==2.18.0->mlflow->resnet==0.0.1) (0.6.1)\n",
            "Downloading colorlog-6.9.0-py3-none-any.whl (11 kB)\n",
            "Downloading mlflow-2.18.0-py3-none-any.whl (27.3 MB)\n",
            "   ━━━━━━━━━━━━━━━━━━━━━━━━━━━━━━━━━━━━━━━━ 27.3/27.3 MB 52.0 MB/s eta 0:00:00\n",
            "Downloading mlflow_skinny-2.18.0-py3-none-any.whl (5.8 MB)\n",
            "   ━━━━━━━━━━━━━━━━━━━━━━━━━━━━━━━━━━━━━━━━ 5.8/5.8 MB 11.3 MB/s eta 0:00:00\n",
            "Downloading alembic-1.14.0-py3-none-any.whl (233 kB)\n",
            "   ━━━━━━━━━━━━━━━━━━━━━━━━━━━━━━━━━━━━━━━━ 233.5/233.5 kB 21.5 MB/s eta 0:00:00\n",
            "Downloading docker-7.1.0-py3-none-any.whl (147 kB)\n",
            "   ━━━━━━━━━━━━━━━━━━━━━━━━━━━━━━━━━━━━━━━━ 147.8/147.8 kB 13.4 MB/s eta 0:00:00\n",
            "Downloading graphene-3.4.3-py2.py3-none-any.whl (114 kB)\n",
            "   ━━━━━━━━━━━━━━━━━━━━━━━━━━━━━━━━━━━━━━━━ 114.9/114.9 kB 11.8 MB/s eta 0:00:00\n",
            "Downloading gunicorn-23.0.0-py3-none-any.whl (85 kB)\n",
            "   ━━━━━━━━━━━━━━━━━━━━━━━━━━━━━━━━━━━━━━━━ 85.0/85.0 kB 8.6 MB/s eta 0:00:00\n",
            "Downloading databricks_sdk-0.38.0-py3-none-any.whl (575 kB)\n",
            "   ━━━━━━━━━━━━━━━━━━━━━━━━━━━━━━━━━━━━━━━━ 575.1/575.1 kB 37.7 MB/s eta 0:00:00\n",
            "Downloading graphql_core-3.2.5-py3-none-any.whl (203 kB)\n",
            "   ━━━━━━━━━━━━━━━━━━━━━━━━━━━━━━━━━━━━━━━━ 203.2/203.2 kB 19.0 MB/s eta 0:00:00\n",
            "Downloading graphql_relay-3.2.0-py3-none-any.whl (16 kB)\n",
            "Downloading Mako-1.3.8-py3-none-any.whl (78 kB)\n",
            "   ━━━━━━━━━━━━━━━━━━━━━━━━━━━━━━━━━━━━━━━━ 78.6/78.6 kB 7.2 MB/s eta 0:00:00\n",
            "Installing collected packages: Mako, gunicorn, graphql-core, colorlog, graphql-relay, docker, alembic, graphene, databricks-sdk, mlflow-skinny, mlflow, resnet\n",
            "  Running setup.py develop for resnet\n",
            "Successfully installed Mako-1.3.8 alembic-1.14.0 colorlog-6.9.0 databricks-sdk-0.38.0 docker-7.1.0 graphene-3.4.3 graphql-core-3.2.5 graphql-relay-3.2.0 gunicorn-23.0.0 mlflow-2.18.0 mlflow-skinny-2.18.0 resnet-0.0.1\n"
          ]
        },
        {
          "output_type": "stream",
          "name": "stderr",
          "text": [
            "rm: cannot remove 'resnet-pytorch': No such file or directory\n",
            "Cloning into 'resnet-pytorch'...\n"
          ]
        }
      ]
    },
    {
      "cell_type": "code",
      "source": [
        "%cd resnet-pytorch"
      ],
      "metadata": {
        "colab": {
          "base_uri": "https://localhost:8080/"
        },
        "id": "8D6ngqXgR2XN",
        "outputId": "14b679d2-4499-4aa3-9e05-8a0d86e8cee3"
      },
      "execution_count": 2,
      "outputs": [
        {
          "output_type": "stream",
          "name": "stdout",
          "text": [
            "/content/resnet-pytorch\n"
          ]
        }
      ]
    },
    {
      "cell_type": "code",
      "source": [
        "# Import resnet library previously installed\n",
        "import resnet\n",
        "\n",
        "# Define the config params for all proceess\n",
        "CONFIG_PARAMS = {\n",
        "    'batch_size'    : 16,\n",
        "    'categories'    : 10,\n",
        "    'optimizer'     : 'sgd',\n",
        "    'learning_rate' : 0.001,\n",
        "    'loss'          : 'cross-entropy',\n",
        "    'epochs'        : 5,\n",
        "    'model_name'    : 'resnet',\n",
        "    'path'          : 'runs',\n",
        "    'dataset_name'  : 'cifar10',\n",
        "}\n",
        "\n",
        "# Train the resnet model\n",
        "weightsPath = resnet.train(params = CONFIG_PARAMS)"
      ],
      "metadata": {
        "colab": {
          "base_uri": "https://localhost:8080/"
        },
        "id": "NFQHPvIKRUuh",
        "outputId": "f81675e1-fd47-4018-ee7f-89e403ab9860"
      },
      "execution_count": 3,
      "outputs": [
        {
          "output_type": "stream",
          "name": "stdout",
          "text": [
            "INFO: ========== TRAINING ==========\n",
            "\n",
            "INFO: Using provided parameters directly.\n",
            "INFO: Using device: cuda\n",
            "INFO: Training configuration | Model: resnet |Dataset: cifar10 | Epochs: 5 |Batch size: 16 | Optimizer: sgd |Learning rate: 0.001 | Loss function: cross-entropy\n",
            "Downloading https://www.cs.toronto.edu/~kriz/cifar-10-python.tar.gz to ./data/cifar-10-python.tar.gz\n"
          ]
        },
        {
          "output_type": "stream",
          "name": "stderr",
          "text": [
            "100%|██████████| 170M/170M [00:05<00:00, 29.7MB/s]\n"
          ]
        },
        {
          "output_type": "stream",
          "name": "stdout",
          "text": [
            "Extracting ./data/cifar-10-python.tar.gz to ./data\n",
            "Files already downloaded and verified\n",
            "INFO: Dataset loaded: cifar10\n",
            "INFO: dataloaders created with batch size: 16\n",
            "INFO: dataloaders created with batch size: 16\n",
            "INFO: Model created and initialized on device cuda\n",
            "INFO: Optimizer initialized: sgd\n",
            "INFO: Loss initialized: cross-entropy\n",
            "INFO: Epoch 1/5 completed |Training Loss: 2.2169, Test Accuracy: 0.2396\n",
            "INFO: Epoch 2/5 completed |Training Loss: 2.1154, Test Accuracy: 0.3710\n",
            "INFO: Epoch 3/5 completed |Training Loss: 2.0447, Test Accuracy: 0.4431\n",
            "INFO: Epoch 4/5 completed |Training Loss: 1.9946, Test Accuracy: 0.4768\n",
            "INFO: Epoch 5/5 completed |Training Loss: 1.9527, Test Accuracy: 0.5282\n",
            "INFO: Directory 'runs' has been created successfully.\n",
            "INFO: Model saved successfully as resnet at runs\n",
            "INFO: Training finished, GPU memory cache cleared\n"
          ]
        }
      ]
    },
    {
      "cell_type": "code",
      "source": [
        "# Import resnet library previously installed\n",
        "import resnet\n",
        "\n",
        "# Test the ResNet model\n",
        "accuracy = resnet.test(params      = CONFIG_PARAMS,\n",
        "                       weightsPath = weightsPath)"
      ],
      "metadata": {
        "colab": {
          "base_uri": "https://localhost:8080/"
        },
        "id": "uqLgG3vTVjUZ",
        "outputId": "17324d8f-1b4e-454a-f40d-bcaad06afc6c"
      },
      "execution_count": 4,
      "outputs": [
        {
          "output_type": "stream",
          "name": "stdout",
          "text": [
            "INFO: \n",
            "========== TESTING ==========\n",
            "\n",
            "INFO: Using provided parameters directly.\n",
            "INFO: Using device: cuda\n",
            "INFO: Using device: cuda\n",
            "INFO: Test configuration | Model Weights: runs/resnet-20241210-205309.pt | Dataset: cifar10 | Batch size: 16\n",
            "Files already downloaded and verified\n",
            "Files already downloaded and verified\n",
            "INFO: Dataset loaded: cifar10\n",
            "INFO: Dataset cifar10 loaded with 10000 test samples\n",
            "INFO: dataloaders created with batch size: 16\n",
            "INFO: Test dataloader created with batch size: 16\n",
            "INFO: Using provided parameters directly.\n",
            "INFO: Model loaded successfully from runs/resnet-20241210-205309.pt\n",
            "INFO: Model set to evaluation mode\n",
            "INFO: Testing complete. Final accuracy: 0.5282\n"
          ]
        }
      ]
    },
    {
      "cell_type": "code",
      "source": [
        "# Import resnet library previously installed\n",
        "import resnet\n",
        "from PIL import Image\n",
        "\n",
        "# Constat with an image to perform the testing\n",
        "IMG_PATH = '/content/resnet-pytorch/gallery/cat.jpeg'\n",
        "\n",
        "# Getting the main device to perform inference `gpu` by defult.\n",
        "DEVICE = resnet.utils.getDevice()\n",
        "\n",
        "# Load model the trained model and image\n",
        "model = resnet.utils.loadModel(weightsPath = weightsPath,\n",
        "                               params      = CONFIG_PARAMS,\n",
        "                               device      = DEVICE)\n",
        "image = Image.open(IMG_PATH)\n",
        "\n",
        "# Perform inference (preprocessing and prediction)\n",
        "results = resnet.inference(image, model, DEVICE)"
      ],
      "metadata": {
        "colab": {
          "base_uri": "https://localhost:8080/"
        },
        "id": "oszIHf3YVk6j",
        "outputId": "d9976e73-39f4-42e5-b1d4-a12e57c654e9"
      },
      "execution_count": 5,
      "outputs": [
        {
          "output_type": "stream",
          "name": "stdout",
          "text": [
            "INFO: Using device: cuda\n",
            "INFO: Using provided parameters directly.\n",
            "INFO: \n",
            "========== INFERENCE ==========\n",
            "\n",
            "INFO: Using device: cuda\n",
            "INFO: Step 1: Preprocessing input data\n",
            "INFO: Step 2: Performing prediction\n",
            "INFO: Prediction result: 3\n"
          ]
        }
      ]
    }
  ]
}